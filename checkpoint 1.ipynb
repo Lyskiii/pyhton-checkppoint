{
 "cells": [
  {
   "cell_type": "code",
   "execution_count": 2,
   "id": "50a26599",
   "metadata": {},
   "outputs": [
    {
     "name": "stdout",
     "output_type": "stream",
     "text": [
      "[2002, 2009, 2016, 2023, 2037, 2044, 2051, 2058, 2072, 2079, 2086, 2093, 2107, 2114, 2121, 2128, 2142, 2149, 2156, 2163, 2177, 2184, 2191, 2198, 2212, 2219, 2226, 2233, 2247, 2254, 2261, 2268, 2282, 2289, 2296, 2303, 2317, 2324, 2331, 2338, 2352, 2359, 2366, 2373, 2387, 2394, 2401, 2408, 2422, 2429, 2436, 2443, 2457, 2464, 2471, 2478, 2492, 2499, 2506, 2513, 2527, 2534, 2541, 2548, 2562, 2569, 2576, 2583, 2597, 2604, 2611, 2618, 2632, 2639, 2646, 2653, 2667, 2674, 2681, 2688, 2702, 2709, 2716, 2723, 2737, 2744, 2751, 2758, 2772, 2779, 2786, 2793, 2807, 2814, 2821, 2828, 2842, 2849, 2856, 2863, 2877, 2884, 2891, 2898, 2912, 2919, 2926, 2933, 2947, 2954, 2961, 2968, 2982, 2989, 2996, 3003, 3017, 3024, 3031, 3038, 3052, 3059, 3066, 3073, 3087, 3094, 3101, 3108, 3122, 3129, 3136, 3143, 3157, 3164, 3171, 3178, 3192, 3199]\n"
     ]
    }
   ],
   "source": [
    "\n",
    "c=[]\n",
    "for n in range(2000, 3201) :\n",
    "    if n% 7==0 and n%5!=0 :\n",
    "        c.append(n)\n",
    "print(c)"
   ]
  },
  {
   "cell_type": "code",
   "execution_count": 9,
   "id": "b6426c67",
   "metadata": {},
   "outputs": [
    {
     "name": "stdout",
     "output_type": "stream",
     "text": [
      "enter a positive integer\n",
      "4\n",
      "the factorial of 4 is equal to 24\n"
     ]
    }
   ],
   "source": [
    "def factorial():\n",
    "    print('enter a positive integer')\n",
    "    num=int(input())\n",
    "    fact=1\n",
    "    if num!=0 & num!=1:\n",
    "        for i in range(2,num+1):\n",
    "            fact=fact*i\n",
    "    \n",
    "    print('the factorial of',num,'is equal to',fact)\n",
    "factorial()"
   ]
  },
  {
   "cell_type": "code",
   "execution_count": 12,
   "id": "a6ea1467",
   "metadata": {},
   "outputs": [
    {
     "name": "stdout",
     "output_type": "stream",
     "text": [
      "enter a positive number: 4\n"
     ]
    },
    {
     "data": {
      "text/plain": [
       "{1: 1, 2: 4, 3: 9, 4: 16}"
      ]
     },
     "execution_count": 12,
     "metadata": {},
     "output_type": "execute_result"
    }
   ],
   "source": [
    "nb=int(input('enter a positive number: '))\n",
    "\n",
    "d3={}\n",
    "for i in range(1,nb+1):\n",
    "    #d3[i]=i*i\n",
    "    d3.update({i:i*i})\n",
    "d3 "
   ]
  },
  {
   "cell_type": "code",
   "execution_count": 9,
   "id": "ed57108d",
   "metadata": {},
   "outputs": [
    {
     "name": "stdout",
     "output_type": "stream",
     "text": [
      "amine\n"
     ]
    }
   ],
   "source": [
    "def missing_char(ch,n):\n",
    "    \n",
    "    l=list(ch)\n",
    "    del(l[n])\n",
    "    ch1=''\n",
    "    for i in range(len(l)):\n",
    "        ch1+=l[i]\n",
    "   \n",
    "    return ch1\n",
    "c=missing_char('lamine',0)\n",
    "print(c)"
   ]
  },
  {
   "cell_type": "code",
   "execution_count": 13,
   "id": "b3b57dd7",
   "metadata": {},
   "outputs": [
    {
     "name": "stdout",
     "output_type": "stream",
     "text": [
      "[[1.050145059173824, 0.08598260596933369, 0.6447959913902399, 1.132389657061231], [1.1647144838818055, 0.7628524378551874, -1.0282606735988398, -0.016093272944201854], [1.4271574406464507, -0.08686786091979362, 0.5761843790836568, 0.7972422940159536]]\n",
      "[[1.050145059173824, 0.08598260596933369, 0.6447959913902399, 1.132389657061231], [1.1647144838818055, 0.7628524378551874, -1.0282606735988398, -0.016093272944201854], [1.4271574406464507, -0.08686786091979362, 0.5761843790836568, 0.7972422940159536]]\n"
     ]
    }
   ],
   "source": [
    "import numpy as np\n",
    "tab=np.random.randn(3,4)\n",
    "def makelist(tab):\n",
    "    l=[]\n",
    "    for i in range(tab.shape[0]):\n",
    "        l1=[]\n",
    "        for j in range(tab.shape[1]):\n",
    "            l1.append(tab[i][j])\n",
    "        l.append(l1)\n",
    "    print(l)\n",
    "    return(l)\n",
    "l=makelist(tab)\n",
    "\n",
    "print(tab.tolist())"
   ]
  },
  {
   "cell_type": "code",
   "execution_count": 8,
   "id": "8ad441a4",
   "metadata": {},
   "outputs": [
    {
     "data": {
      "text/plain": [
       "{1: 1, 2: 4, 3: 9}"
      ]
     },
     "execution_count": 8,
     "metadata": {},
     "output_type": "execute_result"
    }
   ],
   "source": [
    "dico={i:i**2 for i in range(1,4)}\n",
    "dico"
   ]
  },
  {
   "cell_type": "code",
   "execution_count": 10,
   "id": "54d5001c",
   "metadata": {},
   "outputs": [
    {
     "data": {
      "text/plain": [
       "array([[ 0.05229082, -0.15374305],\n",
       "       [-0.15374305,  1.30051432]])"
      ]
     },
     "execution_count": 10,
     "metadata": {},
     "output_type": "execute_result"
    }
   ],
   "source": [
    "t1=np.random.randn(3)\n",
    "t2=np.random.randn(3)\n",
    "np.cov(t1,t2)"
   ]
  },
  {
   "cell_type": "code",
   "execution_count": null,
   "id": "6aba7108",
   "metadata": {},
   "outputs": [],
   "source": [
    "def qformula(d):\n",
    "    c=50\n",
    "    h=30\n",
    "    return round(((2*c*d)/h)**(1/2))\n",
    "def qformulastr(chaine):\n",
    "    liststr=chaine.split(',')\n",
    "    listint=[]\n",
    "    for i in range(len(liststr)):\n",
    "        listint.append(int(liststr[i]))\n",
    "    res=list(map(qformula,listint))\n",
    "    print(res)\n",
    "    return res"
   ]
  }
 ],
 "metadata": {
  "kernelspec": {
   "display_name": "Python 3 (ipykernel)",
   "language": "python",
   "name": "python3"
  },
  "language_info": {
   "codemirror_mode": {
    "name": "ipython",
    "version": 3
   },
   "file_extension": ".py",
   "mimetype": "text/x-python",
   "name": "python",
   "nbconvert_exporter": "python",
   "pygments_lexer": "ipython3",
   "version": "3.9.12"
  }
 },
 "nbformat": 4,
 "nbformat_minor": 5
}
